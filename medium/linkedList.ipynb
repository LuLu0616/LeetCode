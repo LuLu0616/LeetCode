{
 "cells": [
  {
   "cell_type": "markdown",
   "metadata": {},
   "source": [
    "# LinkedList\n",
    "\n",
    "本文件用以存储[Leetcode-中级算法-链表](https://leetcode-cn.com/explore/interview/card/top-interview-questions-medium/31/linked-list/)题目解法部分。"
   ]
  },
  {
   "cell_type": "markdown",
   "metadata": {},
   "source": [
    "## [两数相加](https://leetcode-cn.com/explore/interview/card/top-interview-questions-medium/31/linked-list/82/)\n",
    "\n",
    "题目概述：给出两个 非空 的链表用来表示两个非负的整数。其中，它们各自的位数是按照 逆序 的方式存储的，并且它们的每个节点只能存储一位数字。如果，我们将这两个数相加起来，则会返回一个新的链表来表示它们的和。您可以假设除了数字0之外，这两个数都不会以0开头。"
   ]
  },
  {
   "cell_type": "markdown",
   "metadata": {},
   "source": [
    "**思路一**：直接链表对应位置相加，只需要考虑进位带来的影响。"
   ]
  },
  {
   "cell_type": "code",
   "execution_count": null,
   "metadata": {},
   "outputs": [],
   "source": [
    "# Definition for singly-linked list.\n",
    "# class ListNode(object):\n",
    "#     def __init__(self, x):\n",
    "#         self.val = x\n",
    "#         self.next = None\n",
    "\n",
    "class Solution(object):\n",
    "    def addNode(self, v, p):\n",
    "        carry = 0\n",
    "        if v >= 10:\n",
    "            carry = 1\n",
    "            v = v - 10\n",
    "        node = ListNode(v)\n",
    "        p.next = node\n",
    "        return carry, node\n",
    "        \n",
    "    def addTwoNumbers(self, l1, l2):\n",
    "        \"\"\"\n",
    "        :type l1: ListNode\n",
    "        :type l2: ListNode\n",
    "        :rtype: ListNode\n",
    "        \"\"\"\n",
    "        tmp1, tmp2 = l1, l2\n",
    "        head = ListNode(-1)  # 创建头节点\n",
    "        p = head  # 临时node\n",
    "        carry = 0  # 进位\n",
    "            \n",
    "        # 遍历\n",
    "        while tmp1 and tmp2:\n",
    "            v1 = tmp1.val\n",
    "            v2 = tmp2.val\n",
    "            # 带进位加\n",
    "            v = v1 + v2 + carry\n",
    "            carry, p = self.addNode(v, p)\n",
    "            # 移动指针\n",
    "            tmp1 = tmp1.next\n",
    "            tmp2 = tmp2.next\n",
    "            \n",
    "        # 剩下较长的部分\n",
    "        while tmp1:\n",
    "            v = tmp1.val + carry\n",
    "            carry, p = self.addNode(v, p)\n",
    "            tmp1 = tmp1.next\n",
    "        while tmp2:\n",
    "            v = tmp2.val + carry\n",
    "            carry, p = self.addNode(v, p)\n",
    "            tmp2 = tmp2.next\n",
    "            \n",
    "        # 向最高位进位\n",
    "        if carry:\n",
    "            node = ListNode(1)\n",
    "            p.next = node\n",
    "        \n",
    "        return head.next"
   ]
  }
 ],
 "metadata": {
  "kernelspec": {
   "display_name": "Python 3",
   "language": "python",
   "name": "python3"
  },
  "language_info": {
   "codemirror_mode": {
    "name": "ipython",
    "version": 3
   },
   "file_extension": ".py",
   "mimetype": "text/x-python",
   "name": "python",
   "nbconvert_exporter": "python",
   "pygments_lexer": "ipython3",
   "version": "3.6.5"
  }
 },
 "nbformat": 4,
 "nbformat_minor": 2
}

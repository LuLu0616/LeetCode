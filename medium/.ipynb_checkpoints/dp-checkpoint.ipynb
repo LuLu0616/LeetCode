{
 "cells": [
  {
   "cell_type": "markdown",
   "metadata": {},
   "source": [
    "# DP\n",
    "\n",
    "本文件用以存储[Leetcode-中计算法-动态规划]()相关问题的解法。"
   ]
  },
  {
   "cell_type": "markdown",
   "metadata": {},
   "source": [
    "## [跳跃游戏](https://leetcode-cn.com/explore/interview/card/top-interview-questions-medium/51/dynamic-programming/104/)\n",
    "\n",
    "题目概述：给定一个非负整数数组，你最初位于数组的第一个位置。数组中的每个元素代表你在该位置可以跳跃的最大长度。判断你是否能够到达最后一个位置。"
   ]
  },
  {
   "cell_type": "markdown",
   "metadata": {},
   "source": [
    "**思路一**：考虑先找到所有值为0的位置，因为出现跨不过去，必然是因为被0中断了。然后找每一个为0位置前面能否找到能跨过0位置的出发点，只要出现一处找不到就返回False。"
   ]
  },
  {
   "cell_type": "code",
   "execution_count": 8,
   "metadata": {},
   "outputs": [
    {
     "data": {
      "text/plain": [
       "False"
      ]
     },
     "execution_count": 8,
     "metadata": {},
     "output_type": "execute_result"
    }
   ],
   "source": [
    "def jumpGame(nums):\n",
    "    if not nums:\n",
    "        return True\n",
    "    if len(nums) == 1 and nums[0] == 0:\n",
    "        return True\n",
    "    zeroLocs = [i for i in range(len(nums)) if nums[i] == 0]\n",
    "    for _ in zeroLocs:\n",
    "        flag = False\n",
    "        for j in range(_)[::-1]:\n",
    "            if nums[j] > _ - j:\n",
    "                flag = True\n",
    "                break\n",
    "            # 考虑0在最后一个位置，只需到达即可，无需跨过；\n",
    "            if _ == len(nums) - 1 and nums[j] >= _ - j:\n",
    "                flag = True\n",
    "                break\n",
    "        if not flag:\n",
    "            return False\n",
    "    return True\n",
    "\n",
    "jumpGame([2,0,0,0])"
   ]
  },
  {
   "cell_type": "markdown",
   "metadata": {},
   "source": [
    "**思路二**：直接倒序遍历，使用一个临时变量，来存储可能需要跨过的最大间隔。"
   ]
  },
  {
   "cell_type": "code",
   "execution_count": 11,
   "metadata": {},
   "outputs": [
    {
     "data": {
      "text/plain": [
       "True"
      ]
     },
     "execution_count": 11,
     "metadata": {},
     "output_type": "execute_result"
    }
   ],
   "source": [
    "def jumpGame(nums):\n",
    "    n = 1\n",
    "    for i in range(len(nums)-1)[::-1]:\n",
    "        if nums[i] >= n:\n",
    "            n = 1\n",
    "        else:\n",
    "            # 考虑为什么可以累加？因为出现了一次难以跨过的点，\n",
    "            # 前面的点就必须跨过该点，如果他跨过了该点，\n",
    "            # 那么这两者中间的点也就可以跨过了\n",
    "            n += 1\n",
    "        if i == 0 and n > 1:\n",
    "            return False\n",
    "    return True\n",
    "jumpGame([2,0,0])"
   ]
  }
 ],
 "metadata": {
  "kernelspec": {
   "display_name": "Python 3",
   "language": "python",
   "name": "python3"
  },
  "language_info": {
   "codemirror_mode": {
    "name": "ipython",
    "version": 3
   },
   "file_extension": ".py",
   "mimetype": "text/x-python",
   "name": "python",
   "nbconvert_exporter": "python",
   "pygments_lexer": "ipython3",
   "version": "3.6.5"
  }
 },
 "nbformat": 4,
 "nbformat_minor": 2
}

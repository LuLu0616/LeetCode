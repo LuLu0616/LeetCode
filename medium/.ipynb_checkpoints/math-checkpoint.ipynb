{
 "cells": [
  {
   "cell_type": "markdown",
   "metadata": {},
   "source": [
    "# Math\n",
    "\n",
    "本文件用以存储[Leetcode-中级算法-数学](https://leetcode-cn.com/explore/interview/card/top-interview-questions-medium/31/linked-list/)题目解法部分。"
   ]
  },
  {
   "cell_type": "markdown",
   "metadata": {},
   "source": [
    "## [快乐数](https://leetcode-cn.com/explore/interview/card/top-interview-questions-medium/53/math/112/)\n",
    "\n",
    "题目概述：编写一个算法来判断一个数是不是“快乐数”。一个“快乐数”定义为：对于一个正整数，每一次将该数替换为它每个位置上的数字的平方和，然后重复这个过程直到这个数变为 1，也可能是无限循环但始终变不到 1。如果可以变为 1，那么这个数就是快乐数。"
   ]
  },
  {
   "cell_type": "markdown",
   "metadata": {},
   "source": [
    "**思路一**：不是快乐数，必然会在某个位置陷入循环，故可以使用一个数组来记录所有出现的pair，只要加出来的新数在pair数组中，就会陷入循环，则返回False；在某个位置和为1，则返回True。"
   ]
  },
  {
   "cell_type": "code",
   "execution_count": 13,
   "metadata": {},
   "outputs": [
    {
     "data": {
      "text/plain": [
       "False"
      ]
     },
     "execution_count": 13,
     "metadata": {},
     "output_type": "execute_result"
    }
   ],
   "source": [
    "def isHappy(n):\n",
    "    pairs = []\n",
    "    pair = sorted([int(_) for _ in str(n)])\n",
    "    while pair not in pairs:\n",
    "        pairs.append(pair)\n",
    "        n = 0\n",
    "        for k in pair:\n",
    "            n += k**2\n",
    "        if n == 1:\n",
    "            return True\n",
    "        pair = sorted([int(_) for _ in str(n)])\n",
    "    return False\n",
    "    \n",
    "isHappy(45)"
   ]
  }
 ],
 "metadata": {
  "kernelspec": {
   "display_name": "Python 3",
   "language": "python",
   "name": "python3"
  },
  "language_info": {
   "codemirror_mode": {
    "name": "ipython",
    "version": 3
   },
   "file_extension": ".py",
   "mimetype": "text/x-python",
   "name": "python",
   "nbconvert_exporter": "python",
   "pygments_lexer": "ipython3",
   "version": "3.6.5"
  }
 },
 "nbformat": 4,
 "nbformat_minor": 2
}

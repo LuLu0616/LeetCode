{
 "cells": [
  {
   "cell_type": "markdown",
   "metadata": {},
   "source": [
    "# Array&&String\n",
    "\n",
    "本文件用以存储[Leetcode-中级算法-数组&&字符串](https://leetcode-cn.com/explore/interview/card/top-interview-questions-medium/29/array-and-strings/)中题目的求解代码。"
   ]
  },
  {
   "cell_type": "markdown",
   "metadata": {},
   "source": [
    "## [三数之和](https://leetcode-cn.com/explore/interview/card/top-interview-questions-medium/29/array-and-strings/75/)\n",
    "\n",
    "题目概述：给定一个包含 *n* 个整数的数组 `nums`，判断 `nums` 中是否存在三个元素 *a，b，c ，*使得 *a + b + c =* 0 ？找出所有满足条件且不重复的三元组。\n",
    "\n",
    "1. 思路一：三次遍历，选取所有的[a,b,c]组合判断是否满足条件，时间复杂度为O(n^3)；"
   ]
  },
  {
   "cell_type": "code",
   "execution_count": 1,
   "metadata": {},
   "outputs": [],
   "source": [
    "def threeSum(nums):\n",
    "        \"\"\"\n",
    "        :type nums: List[int]\n",
    "        :rtype: List[List[int]]\n",
    "        \"\"\"\n",
    "        result=[]\n",
    "        for i in range(len(nums)):\n",
    "            for j in range(i+1,len(nums)):\n",
    "                for k in range(j+1,len(nums)):\n",
    "                    if nums[i]+nums[j]+nums[k]==0:\n",
    "                        temp=[nums[i],nums[j],nums[k]]\n",
    "                        # 注意有一个sort的过程\n",
    "                        temp.sort()\n",
    "                        if temp not in result:\n",
    "                            result.append(temp)\n",
    "        return result"
   ]
  },
  {
   "cell_type": "markdown",
   "metadata": {},
   "source": [
    "2. 思路二：先排序（O(nlogn)），对于任意一个数组元素，使用两个指针分别初始化在这个元素的下一个位置与最后一个位置，考虑这三个位置的和。假设这个和大于0，则右指针左移；假设这个和小于0，则左指针右移；直到两个指针相遇。总的时间复杂度为：O(nlogn)+n^2=n^2。这种思路实际上借鉴了类似快排的方法。"
   ]
  },
  {
   "cell_type": "code",
   "execution_count": null,
   "metadata": {},
   "outputs": [],
   "source": [
    "def threeSum(nums):\n",
    "        \"\"\"\n",
    "        :type nums: List[int]\n",
    "        :rtype: List[List[int]]\n",
    "        \"\"\"\n",
    "        pairs = []\n",
    "        if not nums or len(nums) < 3:\n",
    "            return pairs\n",
    "        # 排序\n",
    "        nums.sort()\n",
    "        num_len = len(nums)\n",
    "        for i, _ in enumerate(nums):\n",
    "            # 初始化左右指针\n",
    "            l = i+1\n",
    "            r = num_len - 1\n",
    "            while l < r:\n",
    "                tmp = _ + nums[l] + nums[r]\n",
    "                # 和大于0\n",
    "                if tmp > 0:\n",
    "                    r -= 1\n",
    "                # 和小于0\n",
    "                elif tmp < 0:\n",
    "                    l += 1\n",
    "                # 找到等于0的点\n",
    "                else:\n",
    "                    pair = [_, nums[l], nums[r]]\n",
    "                    if pair not in pairs:\n",
    "                        pairs.append(pair)\n",
    "                    l += 1\n",
    "                    r -= 1\n",
    "        return pairs"
   ]
  },
  {
   "cell_type": "markdown",
   "metadata": {},
   "source": [
    "### 拓展\n",
    "\n",
    "一种使用hash数据结构来解决两数之和的方法。"
   ]
  },
  {
   "cell_type": "code",
   "execution_count": 2,
   "metadata": {},
   "outputs": [
    {
     "data": {
      "text/plain": [
       "[1, 2]"
      ]
     },
     "execution_count": 2,
     "metadata": {},
     "output_type": "execute_result"
    }
   ],
   "source": [
    "def twoSum(nums, target):\n",
    "    _hash = {}\n",
    "    l = len(nums)\n",
    "    for i in range(l):\n",
    "        diff = target - nums[i]\n",
    "        # 看差值是不是在前面部分\n",
    "        if diff in _hash:\n",
    "            return [_hash[diff], i]\n",
    "        _hash[nums[i]] = i\n",
    "    return []\n",
    "\n",
    "twoSum([2, 7, 6, 5, 4, 2], 13)"
   ]
  },
  {
   "cell_type": "markdown",
   "metadata": {},
   "source": [
    "### 参考：\n",
    "\n",
    "- [leetcode 三数之和](https://blog.csdn.net/u012474535/article/details/80279400)"
   ]
  }
 ],
 "metadata": {
  "kernelspec": {
   "display_name": "Python 3",
   "language": "python",
   "name": "python3"
  },
  "language_info": {
   "codemirror_mode": {
    "name": "ipython",
    "version": 3
   },
   "file_extension": ".py",
   "mimetype": "text/x-python",
   "name": "python",
   "nbconvert_exporter": "python",
   "pygments_lexer": "ipython3",
   "version": "3.6.5"
  }
 },
 "nbformat": 4,
 "nbformat_minor": 2
}

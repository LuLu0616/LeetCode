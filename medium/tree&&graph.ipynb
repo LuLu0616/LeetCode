{
 "cells": [
  {
   "cell_type": "markdown",
   "metadata": {},
   "source": [
    "# Tree&&Graph\n",
    "\n",
    "本节存储[Leetcode-中级算法-树与图](https://leetcode-cn.com/explore/interview/card/top-interview-questions-medium/32/trees-and-graphs/)部分题目的解法。"
   ]
  },
  {
   "cell_type": "markdown",
   "metadata": {},
   "source": [
    "## [中序遍历二叉树](https://leetcode-cn.com/explore/interview/card/top-interview-questions-medium/32/trees-and-graphs/85/)\n",
    "\n",
    "题目概述：给定一个二叉树，返回它的中序遍历。可以使用非递归实现吗？"
   ]
  },
  {
   "cell_type": "markdown",
   "metadata": {},
   "source": [
    "**递归实现**：区别在于需要存储所有的数组元素。"
   ]
  },
  {
   "cell_type": "code",
   "execution_count": null,
   "metadata": {},
   "outputs": [],
   "source": [
    "def inorderTraversal(self, root):\n",
    "        \"\"\"\n",
    "        :type root: TreeNode\n",
    "        :rtype: List[int]\n",
    "        \"\"\"\n",
    "        if not root:\n",
    "            return\n",
    "        arr = []\n",
    "        left = self.inorderTraversal(root.left)\n",
    "        right = self.inorderTraversal(root.right)\n",
    "        if left:\n",
    "            arr.extend(left)\n",
    "        arr.append(root.val)\n",
    "        if right:\n",
    "            arr.extend(right)\n",
    "        return arr"
   ]
  },
  {
   "cell_type": "markdown",
   "metadata": {},
   "source": [
    "**非递归实现**：一种简单的实现思路。"
   ]
  },
  {
   "cell_type": "code",
   "execution_count": 1,
   "metadata": {},
   "outputs": [],
   "source": [
    "def inorderTraversal(self, root):\n",
    "        \"\"\"\n",
    "        :type root: TreeNode\n",
    "        :rtype: List[int]\n",
    "        \"\"\"\n",
    "        res = []\n",
    "        stack = [(root, \">\")]\n",
    "        while len(stack) > 0:\n",
    "            p, flag = stack.pop()\n",
    "            if p is None:\n",
    "                continue\n",
    "            if flag == \">\":\n",
    "                stack.append((p.right, \">\"))\n",
    "                stack.append((p, \"<\"))\n",
    "                stack.append((p.left, \">\"))\n",
    "            else:\n",
    "                res.append(p.val)\n",
    "        return res"
   ]
  }
 ],
 "metadata": {
  "kernelspec": {
   "display_name": "Python 3",
   "language": "python",
   "name": "python3"
  },
  "language_info": {
   "codemirror_mode": {
    "name": "ipython",
    "version": 3
   },
   "file_extension": ".py",
   "mimetype": "text/x-python",
   "name": "python",
   "nbconvert_exporter": "python",
   "pygments_lexer": "ipython3",
   "version": "3.6.5"
  }
 },
 "nbformat": 4,
 "nbformat_minor": 2
}
